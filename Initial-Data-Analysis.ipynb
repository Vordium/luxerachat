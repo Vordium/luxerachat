{
  "cells": [
    {
      "cell_type": "markdown",
      "metadata": {
        "id": "E7XCQrWVc2BN"
      },
      "source": [
        "# **Data Science in the Business World**\n",
        "\n",
        "   \n",
        "\n",
        "## Capstone Project: Scavenger hunt\n",
        "*April 15, 2025*  \n",
        "Version 1.0"
      ]
    },
    {
      "cell_type": "markdown",
      "metadata": {
        "id": "y0KGLKBYoBY0"
      },
      "source": [
        "# Zillow data\n",
        "\n",
        "To help you explore the data for the Capstone project, here is a scavenger hunt. You are encouraged to work as a team, and to get Gemini or chatGPT to help you.\n",
        "\n",
        "\n"
      ]
    },
    {
      "cell_type": "markdown",
      "metadata": {
        "id": "MDU0OUJmGcp7"
      },
      "source": [
        "### Initialization\n",
        "\n",
        "I've downloaded the Zillow2023 and Zillow2025 folders to my 488 folder on my Google drive.  Change the path and names here if you have them in different places.\n",
        "\n",
        "Mount google drive, point to Zillow folder(s), and get list of `zillowfiles`.  "
      ]
    },
    {
      "cell_type": "code",
      "execution_count": null,
      "metadata": {
        "colab": {
          "base_uri": "https://localhost:8080/"
        },
        "id": "aYCmFYQ28J-Y",
        "outputId": "b444a141-f95d-49d4-9dbe-e9f1c969a31c"
      },
      "outputs": [
        {
          "output_type": "stream",
          "name": "stdout",
          "text": [
            "Mounted at /content/drive\n"
          ]
        }
      ],
      "source": [
        "import pandas as pd\n",
        "import json\n",
        "import glob\n",
        "import time\n",
        "import os\n",
        "from google.colab import drive\n",
        "drive.mount('/content/drive', force_remount=True)\n",
        "path488 = '/content/drive/MyDrive/COMP488/' # modify to point to where you have your Zillow file folder(s)\n",
        "\n",
        "# Assuming you downloaded the folder Zillow23 and Zillow25 from Canvas\n",
        "zillowfiles = glob.glob(path488+'Zillow*.json')\n",
        "\n",
        "# If you downloaded the files into a common folder, uncomment and modify this\n",
        "# zillowfiles = glob.glob(path488+'YourZillowFolderName/Zillow*.json')\n",
        "\n",
        "zillow23 = next((f for f in zillowfiles if '2023' in f), None)\n",
        "zillow0  = next((f for f in zillowfiles if 'part0' in f), None)\n"
      ]
    },
    {
      "cell_type": "code",
      "execution_count": null,
      "metadata": {
        "id": "PFcx6nTRkBKv"
      },
      "outputs": [],
      "source": [
        "# memory is going to be an issue\n",
        "def memory_usage(df):\n",
        "  return df.memory_usage(deep=True).sum()\n",
        "def print_memory(df, label):\n",
        "  print(f\" Memory: {memory_usage(df):15,} bytes for {label}\")\n"
      ]
    },
    {
      "cell_type": "markdown",
      "metadata": {
        "id": "iqaZkZ0AfVKC"
      },
      "source": [
        "#### Dropping unwanted columns\n",
        "\n",
        "We will want a function to drop unwanted columns as each part is read to save memory, so I'll get Gemini to write an efficient one that does not need a loop.\n"
      ]
    },
    {
      "cell_type": "code",
      "execution_count": null,
      "metadata": {
        "id": "k8hb7odtoqHc"
      },
      "outputs": [],
      "source": [
        "# prompt: write function drop_columns(df, column_set) that will drop in place any columns of df that are in column_set.  Use intersection to avoid a loop.\n",
        "\n",
        "def drop_columns(df, column_set):\n",
        "  \"\"\"Drops columns in column_set from df, in place.\n",
        "  Uses set intersection to avoid a loop.\n",
        "  \"\"\"\n",
        "  cols_to_drop = set(df.columns) & column_set  # Intersection\n",
        "  df.drop(columns=cols_to_drop, inplace=True)\n"
      ]
    },
    {
      "cell_type": "markdown",
      "metadata": {
        "id": "cyup7OI4dq-T"
      },
      "source": [
        "# Difference between 2023 and 2025 files\n",
        "\n",
        "The 2023 and 2025 files are actually stored differently, even though both are json.\n",
        "- The 2023 file contains a dictionary with keys as column names whose entries are dictionaries with keys for each row that has data for that column. This was written with `df.to_json(filename, orient=\"columns\")`\n",
        "- The 2025 files each contain a list of rows, with each row being a dictionary with keys as column names  whose entries are dictionaries with keys for each row that has data for that column. These were written with `df.to_json(filename)`, each taking on  the default `orient=\"list\"`.\n",
        "\n",
        "Fortunately, read_json knows how to read both.\n",
        "\n",
        "We'll read the smallest part of the 2025 data to begin exploring."
      ]
    },
    {
      "cell_type": "markdown",
      "metadata": {
        "id": "fCRCK2IYu4g5"
      },
      "source": [
        "# EXPLORE: exploring the simple data values\n",
        "We have a lot of data, which some of the other sections of this notebook will explore.\n",
        "\n",
        "For now, let's just read in the zillowfiles, but keep only a few columns."
      ]
    },
    {
      "cell_type": "code",
      "execution_count": null,
      "metadata": {
        "colab": {
          "base_uri": "https://localhost:8080/"
        },
        "id": "BWOIOPvYvL4e",
        "outputId": "49b2dc53-c526-4f53-ea8f-b91d2a45ba2c"
      },
      "outputs": [
        {
          "output_type": "stream",
          "name": "stdout",
          "text": [
            "Drive already mounted at /content/drive; to attempt to forcibly remount, call drive.mount(\"/content/drive\", force_remount=True).\n",
            "        zpid                                            address  yearBuilt  \\\n",
            "0   914857.0  {'streetAddress': '2308 Ridgewood Rd', 'city':...     1961.0   \n",
            "1  1176855.0  {'streetAddress': '122 Dixie Dr', 'city': 'Ind...     1962.0   \n",
            "2  2143678.0  {'streetAddress': '19 Oakwood Dr', 'city': 'Ne...     1962.0   \n",
            "3  5614449.0  {'streetAddress': '260 Edgewood Rd', 'city': '...     1975.0   \n",
            "4  5642139.0  {'streetAddress': '115 Windsor Rd', 'city': 'A...     1951.0   \n",
            "\n",
            "    latitude  longitude                                        description  \\\n",
            "0  33.618390 -86.810970  This home has been lovingly cared for and main...   \n",
            "1  39.637882 -86.156540  Great, one owner ranch now on the market!  Rea...   \n",
            "2  45.049557 -93.210335  Welcome to this completely updated mid-century...   \n",
            "3  35.620270 -82.560425  Open House on Sunday, June 10th from 2pm to 4p...   \n",
            "4  35.637710 -82.552260  Immaculate golf course home located on the 8th...   \n",
            "\n",
            "   lotSize     homeStatus whatILove  dateSold       homeType building  \\\n",
            "0  23522.0  RECENTLY_SOLD      None       NaN  SINGLE_FAMILY     None   \n",
            "1  21780.0  RECENTLY_SOLD      None       NaN  SINGLE_FAMILY     None   \n",
            "2  10890.0           SOLD      None       NaN  SINGLE_FAMILY     None   \n",
            "3  10890.0          OTHER      None       NaN  SINGLE_FAMILY     None   \n",
            "4  23958.0           SOLD      None       NaN  SINGLE_FAMILY     None   \n",
            "\n",
            "   bedrooms  zestimate  livingArea            parcelId  bathrooms  \\\n",
            "0       4.0   234500.0      2475.0    1400252004008000        2.0   \n",
            "1       3.0   211700.0      2541.0  491424120042000500        2.0   \n",
            "2       4.0   415400.0      2017.0        313023110055        2.0   \n",
            "3       2.0   484600.0       850.0     964929160500000        1.0   \n",
            "4       4.0  1046000.0      2582.0     974045794000000        3.0   \n",
            "\n",
            "   rentZestimate                                          filename  \n",
            "0         1345.0  Zillow-ChapelHill-Spring2023-18k-Properties.json  \n",
            "1         1479.0  Zillow-ChapelHill-Spring2023-18k-Properties.json  \n",
            "2         2495.0  Zillow-ChapelHill-Spring2023-18k-Properties.json  \n",
            "3         1749.0  Zillow-ChapelHill-Spring2023-18k-Properties.json  \n",
            "4         5063.0  Zillow-ChapelHill-Spring2023-18k-Properties.json  \n"
          ]
        }
      ],
      "source": [
        "# prompt: read in all zillowfiles, keeping only the columns 'zpid', 'yearBuilt', 'latitude', 'longitude', 'description', 'lotSize', 'homeStatus', 'whatILove', 'dateSold', 'homeType', 'building', 'bedrooms', 'zestimate', 'livingArea', 'parcelId', 'bathrooms', 'rentZestimate'.  Add a new column filename with the file name. Concatenate all into dataframe df.\n",
        "\n",
        "import pandas as pd\n",
        "import json\n",
        "import glob\n",
        "import time\n",
        "import os\n",
        "from google.colab import drive\n",
        "\n",
        "drive.mount('/content/drive')\n",
        "path488 = '/content/drive/MyDrive/COMP488/'  # modify to point to where you have your Zillow file folder(s)\n",
        "\n",
        "# Assuming you downloaded the folder Zillow23 and Zillow25 from Canvas\n",
        "zillowfiles = glob.glob(path488 + 'Zillow*.json')\n",
        "\n",
        "# If you downloaded the files into a common folder, uncomment and modify this\n",
        "# zillowfiles = glob.glob(path488+'YourZillowFolderName/Zillow*.json')\n",
        "\n",
        "columns_to_keep = ['zpid', 'address', 'yearBuilt', 'latitude', 'longitude', 'description', 'lotSize', 'homeStatus', 'whatILove', 'dateSold', 'homeType', 'building', 'bedrooms', 'zestimate', 'livingArea', 'parcelId', 'bathrooms', 'rentZestimate']\n",
        "df = pd.DataFrame()\n",
        "\n",
        "for file in zillowfiles:\n",
        "    try:\n",
        "        temp_df = pd.read_json(file)\n",
        "        # Keep only desired columns\n",
        "        temp_df = temp_df[columns_to_keep].copy()\n",
        "        # Add filename column\n",
        "        temp_df['filename'] = os.path.basename(file)\n",
        "        df = pd.concat([df, temp_df], ignore_index=True)\n",
        "    except Exception as e:\n",
        "        print(f\"Error processing file {file}: {e}\")\n",
        "\n",
        "print(df.head())\n"
      ]
    },
    {
      "cell_type": "code",
      "execution_count": null,
      "metadata": {
        "id": "IzpTFNMFwKof",
        "colab": {
          "base_uri": "https://localhost:8080/"
        },
        "outputId": "3606ea67-50ef-48d1-f1a4-022d67fd6721"
      },
      "outputs": [
        {
          "output_type": "stream",
          "name": "stdout",
          "text": [
            "<class 'pandas.core.frame.DataFrame'>\n",
            "RangeIndex: 50320 entries, 0 to 50319\n",
            "Data columns (total 19 columns):\n",
            " #   Column         Non-Null Count  Dtype  \n",
            "---  ------         --------------  -----  \n",
            " 0   zpid           50266 non-null  float64\n",
            " 1   address        50320 non-null  object \n",
            " 2   yearBuilt      44556 non-null  float64\n",
            " 3   latitude       50251 non-null  float64\n",
            " 4   longitude      50251 non-null  float64\n",
            " 5   description    50317 non-null  object \n",
            " 6   lotSize        43916 non-null  float64\n",
            " 7   homeStatus     50320 non-null  object \n",
            " 8   whatILove      1511 non-null   object \n",
            " 9   dateSold       35786 non-null  float64\n",
            " 10  homeType       50320 non-null  object \n",
            " 11  building       616 non-null    object \n",
            " 12  bedrooms       44595 non-null  float64\n",
            " 13  zestimate      43860 non-null  float64\n",
            " 14  livingArea     45960 non-null  float64\n",
            " 15  parcelId       44319 non-null  object \n",
            " 16  bathrooms      46031 non-null  float64\n",
            " 17  rentZestimate  48540 non-null  float64\n",
            " 18  filename       50320 non-null  object \n",
            "dtypes: float64(11), object(8)\n",
            "memory usage: 7.3+ MB\n"
          ]
        }
      ],
      "source": [
        "df.info()"
      ]
    },
    {
      "cell_type": "markdown",
      "source": [
        "## Q: find the statistics for numeric quantities\n",
        "\n",
        "for number of bedrooms, bathrooms, lotsize, etc.\n"
      ],
      "metadata": {
        "id": "xLVc5qjwy-xb"
      }
    },
    {
      "cell_type": "code",
      "source": [
        "import pandas as pd\n",
        "import os\n",
        "\n",
        "# Load your data (use previous loading function or define it again)\n",
        "file_2023 = '/content/drive/MyDrive/COMP488/Zillow-ChapelHill-Spring2023-18k-Properties.json'\n",
        "file_2025_0 = '/content/drive/MyDrive/COMP488/Zillow-March2025-dataset_part0.json'\n",
        "\n",
        "# Load helper\n",
        "def load_dataframe(filepath, label):\n",
        "    if not os.path.exists(filepath):\n",
        "        print(f\"❌ File not found: {filepath}\")\n",
        "        return None\n",
        "    try:\n",
        "        df = pd.read_json(filepath)\n",
        "        print(f\"✅ Loaded {label}: {df.shape}\")\n",
        "        return df\n",
        "    except Exception as e:\n",
        "        print(f\"⚠️ Error loading {label}: {e}\")\n",
        "        return None\n",
        "\n",
        "# Load dataframes\n",
        "df23 = load_dataframe(file_2023, \"2023\")\n",
        "df0 = load_dataframe(file_2025_0, \"2025_part0\")\n",
        "\n",
        "# Show descriptive statistics for numeric columns\n",
        "def describe_numerics(df, label):\n",
        "    print(f\"\\n📊 Descriptive statistics for numeric columns in {label}:\")\n",
        "    numeric_df = df.select_dtypes(include='number')\n",
        "    print(numeric_df.describe())\n",
        "\n",
        "# Run stats on each\n",
        "if df23 is not None:\n",
        "    describe_numerics(df23, \"2023\")\n",
        "\n",
        "if df0 is not None:\n",
        "    describe_numerics(df0, \"2025_part0\")\n"
      ],
      "metadata": {
        "colab": {
          "base_uri": "https://localhost:8080/"
        },
        "id": "lkJcxHOLQvnq",
        "outputId": "01caa7f2-00bc-4b33-c2e1-2ac235738939"
      },
      "execution_count": null,
      "outputs": [
        {
          "output_type": "stream",
          "name": "stdout",
          "text": [
            "✅ Loaded 2023: (18287, 66)\n",
            "✅ Loaded 2025_part0: (467, 183)\n",
            "\n",
            "📊 Descriptive statistics for numeric columns in 2023:\n",
            "               zpid      bedrooms     bathrooms         price     yearBuilt  \\\n",
            "count  1.828700e+04  16452.000000  17370.000000  1.828700e+04  17137.000000   \n",
            "mean   2.731535e+08      3.464199      2.826923  6.231969e+05   1986.929743   \n",
            "std    5.872488e+08      1.049151      1.138958  5.678859e+05     21.309115   \n",
            "min    9.148570e+05      0.000000      0.000000  0.000000e+00   1647.000000   \n",
            "25%    5.003714e+07      3.000000      2.000000  3.664000e+05   1976.000000   \n",
            "50%    5.005133e+07      3.000000      2.500000  5.500000e+05   1990.000000   \n",
            "75%    9.005254e+07      4.000000      3.500000  7.755000e+05   2001.000000   \n",
            "max    2.146934e+09     21.000000     14.000000  3.161020e+07   2023.000000   \n",
            "\n",
            "          longitude      latitude     livingArea  daysOnZillow     zestimate  \\\n",
            "count  18284.000000  18284.000000   17359.000000  14457.000000  1.633500e+04   \n",
            "mean     -79.102146     35.925267    2577.192004   3883.089783  6.704308e+05   \n",
            "std        0.958470      0.362833    2470.024656   3333.559492  3.989741e+05   \n",
            "min     -122.226740     27.301004       0.000000      0.000000  5.520000e+04   \n",
            "25%      -79.084080     35.897882    1576.000000   1284.000000  4.194000e+05   \n",
            "50%      -79.053435     35.926476    2301.000000   2866.000000  5.942000e+05   \n",
            "75%      -79.019700     35.948735    3177.500000   6086.000000  8.179000e+05   \n",
            "max      -71.444460     47.933285  137038.000000  28694.000000  1.955890e+07   \n",
            "\n",
            "       ...       lotSize  propertyTaxRate    buildingId      dateSold  \\\n",
            "count  ...  1.675900e+04     18244.000000  1.332000e+03  1.297200e+04   \n",
            "mean   ...  7.461777e+05         1.174373  1.707313e+09  1.337809e+12   \n",
            "std    ...  3.330065e+07         0.099723  5.372602e+08  2.904684e+11   \n",
            "min    ...  0.000000e+00         0.250000  1.001425e+09 -7.996320e+11   \n",
            "25%    ...  9.583000e+03         1.190000  1.016156e+09  1.150934e+12   \n",
            "50%    ...  2.003800e+04         1.190000  2.024453e+09  1.427242e+12   \n",
            "75%    ...  4.356000e+04         1.190000  2.024460e+09  1.563948e+12   \n",
            "max    ...  2.147484e+09         3.140000  2.601105e+09  1.679962e+12   \n",
            "\n",
            "       taxAssessedValue  taxAssessedYear        hoaFee  isListedByOwner  \\\n",
            "count      1.486900e+04     14869.000000   3543.000000        38.000000   \n",
            "mean       4.650129e+05      2021.958572    204.614169         0.552632   \n",
            "std        5.228597e+05         0.363494    939.235536         0.503897   \n",
            "min        1.000000e+00      2012.000000      1.000000         0.000000   \n",
            "25%        2.747940e+05      2022.000000     60.000000         0.000000   \n",
            "50%        3.998000e+05      2022.000000    127.000000         1.000000   \n",
            "75%        5.588000e+05      2022.000000    247.000000         1.000000   \n",
            "max        3.161020e+07      2022.000000  45000.000000         1.000000   \n",
            "\n",
            "       moveInReady  moveInCompletionDate  \n",
            "count         4.00                   0.0  \n",
            "mean          0.75                   NaN  \n",
            "std           0.50                   NaN  \n",
            "min           0.00                   NaN  \n",
            "25%           0.75                   NaN  \n",
            "50%           1.00                   NaN  \n",
            "75%           1.00                   NaN  \n",
            "max           1.00                   NaN  \n",
            "\n",
            "[8 rows x 31 columns]\n",
            "\n",
            "📊 Descriptive statistics for numeric columns in 2025_part0:\n",
            "               zpid  listingSource  listingAccount  ownerAccount  \\\n",
            "count  4.530000e+02            0.0             0.0           0.0   \n",
            "mean   1.020293e+08            NaN             NaN           NaN   \n",
            "std    1.235820e+08            NaN             NaN           NaN   \n",
            "min    4.996870e+07            NaN             NaN           NaN   \n",
            "25%    5.003983e+07            NaN             NaN           NaN   \n",
            "50%    6.007135e+07            NaN             NaN           NaN   \n",
            "75%    9.818678e+07            NaN             NaN           NaN   \n",
            "max    2.070114e+09            NaN             NaN           NaN   \n",
            "\n",
            "       lfaViewPropertyPageUrl  listingOwnerConfigIDs  \\\n",
            "count                     0.0                    0.0   \n",
            "mean                      NaN                    NaN   \n",
            "std                       NaN                    NaN   \n",
            "min                       NaN                    NaN   \n",
            "25%                       NaN                    NaN   \n",
            "50%                       NaN                    NaN   \n",
            "75%                       NaN                    NaN   \n",
            "max                       NaN                    NaN   \n",
            "\n",
            "       postingPresentationTypes      maloneId    bedrooms   bathrooms  ...  \\\n",
            "count                       0.0  4.500000e+02  408.000000  417.000000  ...   \n",
            "mean                        NaN  2.284123e+09    3.112745    2.540767  ...   \n",
            "std                         NaN  3.551443e+08    1.252824    1.222591  ...   \n",
            "min                         NaN  1.001845e+09    0.000000    0.000000  ...   \n",
            "25%                         NaN  2.024459e+09    2.000000    2.000000  ...   \n",
            "50%                         NaN  2.190987e+09    3.000000    2.000000  ...   \n",
            "75%                         NaN  2.570062e+09    4.000000    3.000000  ...   \n",
            "max                         NaN  2.750896e+09   10.000000    8.000000  ...   \n",
            "\n",
            "       boroughSearchUrl  communityUrl  daysOnZillow  \\\n",
            "count               0.0           0.0    378.000000   \n",
            "mean                NaN           NaN   3844.335979   \n",
            "std                 NaN           NaN   3043.080686   \n",
            "min                 NaN           NaN      9.000000   \n",
            "25%                 NaN           NaN   1449.000000   \n",
            "50%                 NaN           NaN   2969.500000   \n",
            "75%                 NaN           NaN   5762.500000   \n",
            "max                 NaN           NaN  16552.000000   \n",
            "\n",
            "       isConfirmedClaimedByCurrentSignedInUser    buildingId  \\\n",
            "count                                    466.0  2.490000e+02   \n",
            "mean                                       0.0  1.547830e+09   \n",
            "std                                        0.0  5.549106e+08   \n",
            "min                                        0.0  1.001425e+09   \n",
            "25%                                        0.0  1.004372e+09   \n",
            "50%                                        0.0  1.136469e+09   \n",
            "75%                                        0.0  2.024450e+09   \n",
            "max                                        0.0  2.751211e+09   \n",
            "\n",
            "       isListingOwnedByCurrentSignedInUser  listPriceLow  isIncomeRestricted  \\\n",
            "count                                  1.0           0.0                 0.0   \n",
            "mean                                   0.0           NaN                 NaN   \n",
            "std                                    NaN           NaN                 NaN   \n",
            "min                                    0.0           NaN                 NaN   \n",
            "25%                                    0.0           NaN                 NaN   \n",
            "50%                                    0.0           NaN                 NaN   \n",
            "75%                                    0.0           NaN                 NaN   \n",
            "max                                    0.0           NaN                 NaN   \n",
            "\n",
            "       isListedByOwner  marketingName  \n",
            "count              1.0            0.0  \n",
            "mean               1.0            NaN  \n",
            "std                NaN            NaN  \n",
            "min                1.0            NaN  \n",
            "25%                1.0            NaN  \n",
            "50%                1.0            NaN  \n",
            "75%                1.0            NaN  \n",
            "max                1.0            NaN  \n",
            "\n",
            "[8 rows x 73 columns]\n"
          ]
        }
      ]
    },
    {
      "cell_type": "markdown",
      "source": [
        "## Q: Do boxplots for lotsize and yearbuilt"
      ],
      "metadata": {
        "id": "5zRKPJuRzKSq"
      }
    },
    {
      "cell_type": "code",
      "source": [
        "import pandas as pd\n",
        "import matplotlib.pyplot as plt\n",
        "import seaborn as sns\n",
        "import os\n",
        "\n",
        "# File paths\n",
        "file_2023 = '/content/drive/MyDrive/COMP488/Zillow-ChapelHill-Spring2023-18k-Properties.json'\n",
        "file_2025_0 = '/content/drive/MyDrive/COMP488/Zillow-March2025-dataset_part0.json'\n",
        "\n",
        "# Load helper\n",
        "def load_dataframe(filepath, label):\n",
        "    if not os.path.exists(filepath):\n",
        "        print(f\"❌ File not found: {filepath}\")\n",
        "        return None\n",
        "    try:\n",
        "        df = pd.read_json(filepath)\n",
        "        print(f\"✅ Loaded {label}: {df.shape}\")\n",
        "        return df\n",
        "    except Exception as e:\n",
        "        print(f\"⚠️ Error loading {label}: {e}\")\n",
        "        return None\n",
        "\n",
        "# Clean and prepare for plotting\n",
        "def prep_plot_df(df, label):\n",
        "    if df is None:\n",
        "        return pd.DataFrame()\n",
        "    df = df[['lotSize', 'yearBuilt']].copy()\n",
        "    df = df.dropna()\n",
        "    df = df[(df['yearBuilt'] > 1700) & (df['yearBuilt'] < 2030)]\n",
        "    df = df[df['lotSize'] < df['lotSize'].quantile(0.99)]\n",
        "    df['source'] = label\n",
        "    return df\n",
        "\n",
        "# Load and clean\n",
        "df23 = load_dataframe(file_2023, \"2023\")\n",
        "df0 = load_dataframe(file_2025_0, \"2025_part0\")\n",
        "\n",
        "df23_clean = prep_plot_df(df23, \"2023\")\n",
        "df0_clean = prep_plot_df(df0, \"2025\")\n",
        "\n",
        "# Combine for plotting\n",
        "combined_df = pd.concat([df23_clean, df0_clean], ignore_index=True)\n",
        "\n",
        "# Plotting\n",
        "plt.figure(figsize=(16, 6))\n",
        "\n",
        "# Lot Size Boxplot\n",
        "plt.subplot(1, 2, 1)\n",
        "sns.boxplot(x='source', y='lotSize', data=combined_df)\n",
        "plt.title('Lot Size by Dataset')\n",
        "plt.ylabel('Lot Size')\n",
        "\n",
        "# Year Built Boxplot\n",
        "plt.subplot(1, 2, 2)\n",
        "sns.boxplot(x='source', y='yearBuilt', data=combined_df)\n",
        "plt.title('Year Built by Dataset')\n",
        "plt.ylabel('Year Built')\n",
        "\n",
        "plt.tight_layout()\n",
        "plt.show()"
      ],
      "metadata": {
        "colab": {
          "base_uri": "https://localhost:8080/",
          "height": 443
        },
        "id": "zyMldlmRQ_A4",
        "outputId": "06b4b6a5-44e6-4cf5-966b-c98f72701a2a"
      },
      "execution_count": null,
      "outputs": [
        {
          "output_type": "stream",
          "name": "stdout",
          "text": [
            "✅ Loaded 2023: (18287, 66)\n",
            "✅ Loaded 2025_part0: (467, 183)\n"
          ]
        },
        {
          "output_type": "display_data",
          "data": {
            "text/plain": [
              "<Figure size 1600x600 with 2 Axes>"
            ],
            "image/png": "[encoded data removed]"
          },
          "metadata": {}
        }
      ]
    },
    {
      "cell_type": "markdown",
      "source": [
        "## Q: How many of the zpids appear in more than one file?\n"
      ],
      "metadata": {
        "id": "IlIDaBxt4IJr"
      }
    },
    {
      "cell_type": "code",
      "source": [
        "import pandas as pd\n",
        "import os\n",
        "from collections import defaultdict\n",
        "\n",
        "# File paths\n",
        "filepaths = {\n",
        "    \"2023\": '/content/drive/MyDrive/COMP488/Zillow-ChapelHill-Spring2023-18k-Properties.json',\n",
        "    \"2025_part0\": '/content/drive/MyDrive/COMP488/Zillow-March2025-dataset_part0.json',\n",
        "    \"2025_part1\": '/content/drive/MyDrive/COMP488/Zillow-March2025-dataset_part1.json',\n",
        "    \"2025_part2\": '/content/drive/MyDrive/COMP488/Zillow-March2025-dataset_part2.json',\n",
        "    \"2025_part3\": '/content/drive/MyDrive/COMP488/Zillow-March2025-dataset_part3.json',\n",
        "}\n",
        "\n",
        "# Dictionary to track which zpids came from which files\n",
        "zpid_sources = defaultdict(set)\n",
        "\n",
        "# Load each file and collect zpid info\n",
        "for label, path in filepaths.items():\n",
        "    if not os.path.exists(path):\n",
        "        print(f\"❌ File not found: {path}\")\n",
        "        continue\n",
        "    try:\n",
        "        df = pd.read_json(path)\n",
        "        if 'zpid' in df.columns:\n",
        "            for z in df['zpid'].dropna().unique():\n",
        "                zpid_sources[z].add(label)\n",
        "        else:\n",
        "            print(f\"⚠️ No 'zpid' column in {label}\")\n",
        "    except Exception as e:\n",
        "        print(f\"⚠️ Error loading {label}: {e}\")\n",
        "\n",
        "# Count how many zpids appear in more than one file\n",
        "duplicate_zpids = [zpid for zpid, sources in zpid_sources.items() if len(sources) > 1]\n",
        "\n",
        "print(f\"\\n🔁 Number of zpids that appear in more than one file: {len(duplicate_zpids)}\")\n"
      ],
      "metadata": {
        "colab": {
          "base_uri": "https://localhost:8080/"
        },
        "id": "I3CYW4FpRQBj",
        "outputId": "b48373ca-887b-48d2-8ec8-ca7902e809d5"
      },
      "execution_count": null,
      "outputs": [
        {
          "output_type": "stream",
          "name": "stdout",
          "text": [
            "\n",
            "🔁 Number of zpids that appear in more than one file: 17001\n"
          ]
        }
      ]
    },
    {
      "cell_type": "markdown",
      "source": [
        "## Q: Yearbuilt\n",
        "What is the earliest yearbuilt and do you believe it?  Find all houses built before UNC opened and check Zillow to see if the year is actually correct.\n"
      ],
      "metadata": {
        "id": "wxQ4RCXv3_hO"
      }
    },
    {
      "cell_type": "code",
      "source": [
        "import pandas as pd\n",
        "import os\n",
        "\n",
        "# File paths\n",
        "filepaths = {\n",
        "    \"2023\": '/content/drive/MyDrive/COMP488/Zillow-ChapelHill-Spring2023-18k-Properties.json',\n",
        "    \"2025_part0\": '/content/drive/MyDrive/COMP488/Zillow-March2025-dataset_part0.json',\n",
        "    \"2025_part1\": '/content/drive/MyDrive/COMP488/Zillow-March2025-dataset_part1.json',\n",
        "    \"2025_part2\": '/content/drive/MyDrive/COMP488/Zillow-March2025-dataset_part2.json',\n",
        "    \"2025_part3\": '/content/drive/MyDrive/COMP488/Zillow-March2025-dataset_part3.json',\n",
        "}\n",
        "\n",
        "# Collect all rows from all files\n",
        "all_dfs = []\n",
        "\n",
        "for label, path in filepaths.items():\n",
        "    if not os.path.exists(path):\n",
        "        print(f\"❌ File not found: {path}\")\n",
        "        continue\n",
        "    try:\n",
        "        df = pd.read_json(path)\n",
        "        df['source_file'] = label\n",
        "        all_dfs.append(df)\n",
        "    except Exception as e:\n",
        "        print(f\"⚠️ Error loading {label}: {e}\")\n",
        "\n",
        "# Combine all data\n",
        "combined_df = pd.concat(all_dfs, ignore_index=True)\n",
        "\n",
        "# Make sure yearBuilt is numeric\n",
        "combined_df = combined_df[pd.to_numeric(combined_df['yearBuilt'], errors='coerce').notnull()]\n",
        "combined_df['yearBuilt'] = combined_df['yearBuilt'].astype(int)\n",
        "\n",
        "# Find the earliest year built\n",
        "earliest_year = combined_df['yearBuilt'].min()\n",
        "print(f\"\\n🏚️ Earliest yearBuilt: {earliest_year}\")\n",
        "\n",
        "# Find houses built before UNC was founded (1795)\n",
        "pre_unc = combined_df[combined_df['yearBuilt'] < 1795]\n",
        "print(f\"\\n🏛️ Number of homes listed as built before UNC (1795): {len(pre_unc)}\")\n",
        "\n",
        "# Display details to manually verify\n",
        "display_cols = ['zpid', 'yearBuilt', 'address', 'homeType', 'source_file']\n",
        "print(\"\\n🔍 Suspected old homes:\")\n",
        "print(pre_unc[display_cols].head(10))  # print top 10 if many\n"
      ],
      "metadata": {
        "colab": {
          "base_uri": "https://localhost:8080/"
        },
        "id": "VD5BXIRyRl1A",
        "outputId": "c0160847-04f8-4e89-8bd9-6171547f33fe"
      },
      "execution_count": null,
      "outputs": [
        {
          "output_type": "stream",
          "name": "stdout",
          "text": [
            "\n",
            "🏚️ Earliest yearBuilt: 1647\n",
            "\n",
            "🏛️ Number of homes listed as built before UNC (1795): 3\n",
            "\n",
            "🔍 Suspected old homes:\n",
            "              zpid  yearBuilt  \\\n",
            "4448    50036812.0       1785   \n",
            "6028    50039980.0       1647   \n",
            "48180  114922366.0       1695   \n",
            "\n",
            "                                                 address       homeType  \\\n",
            "4448   {'streetAddress': '112 Channing Ln', 'city': '...      TOWNHOUSE   \n",
            "6028   {'streetAddress': '103 Plant Rd', 'city': 'Cha...  SINGLE_FAMILY   \n",
            "48180  {'streetAddress': '1745 Chapel Hill Rd', 'city...  SINGLE_FAMILY   \n",
            "\n",
            "      source_file  \n",
            "4448         2023  \n",
            "6028         2023  \n",
            "48180  2025_part3  \n"
          ]
        },
        {
          "output_type": "stream",
          "name": "stderr",
          "text": [
            "<ipython-input-19-c1136e3520b3>:32: SettingWithCopyWarning: \n",
            "A value is trying to be set on a copy of a slice from a DataFrame.\n",
            "Try using .loc[row_indexer,col_indexer] = value instead\n",
            "\n",
            "See the caveats in the documentation: https://pandas.pydata.org/pandas-docs/stable/user_guide/indexing.html#returning-a-view-versus-a-copy\n",
            "  combined_df['yearBuilt'] = combined_df['yearBuilt'].astype(int)\n"
          ]
        }
      ]
    },
    {
      "cell_type": "markdown",
      "source": [
        "\n",
        "### 🏚️ **Suspicious Listings (Pre-UNC Homes)**\n",
        "\n",
        "| Year Built | Address (City)        | Home Type       | File        |\n",
        "|------------|------------------------|------------------|-------------|\n",
        "| 1647       | 103 Plant Rd, Chapel Hill, NC | SINGLE_FAMILY | 2023        |\n",
        "| 1695       | 1745 Chapel Hill Rd, Durham, NC | SINGLE_FAMILY | 2025_part3 |\n",
        "| 1785       | 112 Channing Ln, Chapel Hill, NC | TOWNHOUSE     | 2023        |"
      ],
      "metadata": {
        "id": "BoD6ue7dSl19"
      }
    },
    {
      "cell_type": "markdown",
      "source": [
        "## Q: What is the format of address?  \n",
        "\n",
        "How can you break that out and make separate columns in df?"
      ],
      "metadata": {
        "id": "3DRSCM8izQry"
      }
    },
    {
      "cell_type": "code",
      "source": [
        "import pandas as pd\n",
        "import os\n",
        "\n",
        "# Example: assuming df is already loaded from one file (like df23 or df0)\n",
        "# You can use this on any DataFrame that contains a column named 'address'\n",
        "\n",
        "def expand_address(df):\n",
        "    if 'address' not in df.columns:\n",
        "        print(\"❌ No 'address' column in DataFrame.\")\n",
        "        return df\n",
        "\n",
        "    # Only expand where address is a dictionary\n",
        "    address_df = df['address'].dropna().apply(lambda x: x if isinstance(x, dict) else {}).apply(pd.Series)\n",
        "\n",
        "    # Combine back with original dataframe\n",
        "    df_expanded = df.copy()\n",
        "    df_expanded = pd.concat([df_expanded, address_df], axis=1)\n",
        "\n",
        "    return df_expanded\n",
        "\n",
        "# Example with df0 (or df23)\n",
        "df_with_address = expand_address(df0)  # or expand_address(df23)\n",
        "\n",
        "# Show a few rows of the new address fields\n",
        "print(\"\\n📬 Expanded address columns (sample):\")\n",
        "print(df_with_address[['streetAddress', 'city', 'state', 'zipcode']].head())\n"
      ],
      "metadata": {
        "colab": {
          "base_uri": "https://localhost:8080/"
        },
        "id": "cfXJzkCTSIDu",
        "outputId": "f2d7852d-ac96-4cc1-9d50-9f1cfbd25476"
      },
      "execution_count": null,
      "outputs": [
        {
          "output_type": "stream",
          "name": "stdout",
          "text": [
            "\n",
            "📬 Expanded address columns (sample):\n",
            "               streetAddress              streetAddress         city  \\\n",
            "0         302 Orchard Ln #92         302 Orchard Ln #92     Carrboro   \n",
            "1     232 McCauley St UNIT A     232 McCauley St UNIT A  Chapel Hill   \n",
            "2      2034 Foxwood Farm Trl      2034 Foxwood Farm Trl  Chapel Hill   \n",
            "3  1509 Partridgeberry Rd #A  1509 Partridgeberry Rd #A  Chapel Hill   \n",
            "4              308 Ransom St              308 Ransom St  Chapel Hill   \n",
            "\n",
            "          city state state  zipcode zipcode  \n",
            "0     Carrboro    NC    NC  27510.0   27510  \n",
            "1  Chapel Hill    NC    NC  27516.0   27516  \n",
            "2  Chapel Hill    NC    NC  27516.0   27516  \n",
            "3  Chapel Hill    NC    NC  27516.0   27516  \n",
            "4  Chapel Hill    NC    NC  27516.0   27516  \n"
          ]
        }
      ]
    },
    {
      "cell_type": "markdown",
      "metadata": {
        "id": "juw5ypu9fjW2"
      },
      "source": [
        "# COLUMNS: explore the smallest parts of 2023 and 2025 data to learn about the columns."
      ]
    },
    {
      "cell_type": "code",
      "execution_count": null,
      "metadata": {
        "colab": {
          "base_uri": "https://localhost:8080/"
        },
        "id": "4COziWsmeBnv",
        "outputId": "31602463-9bc5-435f-d42b-c7459f13be76"
      },
      "outputs": [
        {
          "output_type": "stream",
          "name": "stdout",
          "text": [
            " Memory: 55.79417037963867 bytes for df23\n",
            " Memory: 9.566537857055664 bytes for df0\n",
            "CPU times: user 2.03 s, sys: 626 ms, total: 2.65 s\n",
            "Wall time: 2.65 s\n"
          ]
        }
      ],
      "source": [
        "%%time\n",
        "\n",
        "df23 = pd.read_json(zillow23)\n",
        "df0 = pd.read_json(zillow0)\n",
        "print_memory(df23, \"df23\")\n",
        "print_memory(df0, \"df0\")"
      ]
    },
    {
      "cell_type": "markdown",
      "metadata": {
        "id": "QF5cuxwCfF5r"
      },
      "source": [
        "### Q: What columns are shared in the 2023 and 2025 dataframes, and what columns appear in only one?\n",
        "You'll want to to ask so that the code uses a set of columns, where order does not matter.  "
      ]
    },
    {
      "cell_type": "code",
      "execution_count": null,
      "metadata": {
        "colab": {
          "base_uri": "https://localhost:8080/"
        },
        "id": "gp1RsJ5kfFbq",
        "outputId": "4cdaeda9-09b2-430b-fb75-aa1a1c350373"
      },
      "outputs": [
        {
          "output_type": "stream",
          "name": "stdout",
          "text": [
            "✅ Loaded 2023 with 18287 rows and 66 columns\n",
            "✅ Loaded 2025_part0 with 467 rows and 183 columns\n",
            "\n",
            "✅ Shared columns (54):\n",
            "['abbreviatedAddress', 'address', 'bathrooms', 'bedrooms', 'brokerId', 'brokerageName', 'building', 'buildingId', 'contingentListingType', 'currency', 'dateSold', 'dateSoldString', 'daysOnZillow', 'description', 'hoaFee', 'homeStatus', 'homeType', 'isFeatured', 'isListedByOwner', 'isNonOwnerOccupied', 'isPremierBuilder', 'isRecentStatusChange', 'isZillowOwned', 'lastSoldPrice', 'latitude', 'listedBy', 'listingProvider', 'livingArea', 'longitude', 'lotSize', 'marketingName', 'mortgageRates', 'newConstructionType', 'openHouseSchedule', 'parcelId', 'postingContact', 'price', 'priceHistory', 'primaryPublicVideo', 'propertyTaxRate', 'rentZestimate', 'rentalApplicationsAcceptedType', 'restimateHighPercent', 'restimateLowPercent', 'taxAssessedValue', 'taxAssessedYear', 'taxHistory', 'timeZone', 'tourEligibility', 'tourViewCount', 'whatILove', 'yearBuilt', 'zestimate', 'zpid']\n",
            "\n",
            "📅 Columns only in 2023 (12):\n",
            "['chanceToSellFaster', 'comingSoonOnMarketDate', 'datePostedString', 'favoriteCount', 'isPreforeclosureAuction', 'moveInCompletionDate', 'moveInReady', 'pageViewCount', 'photos', 'priceChange', 'timeOnZillow', 'url']\n",
            "\n",
            "🆕 Columns only in 2025 (129):\n",
            "['adTargets', 'addressOrUrlFromInput', 'apartmentsForRentInZipcodeSearchUrl', 'attributionInfo', 'boroughId', 'boroughSearchUrl', 'brokerIdDimension', 'city', 'cityId', 'citySearchUrl', 'communityUrl', 'comps', 'compsCarouselPropertyPhotos', 'country', 'county', 'countyFIPS', 'countyId', 'countySearchUrl', 'desktopWebHdpImageLink', 'editPropertyHistorylink', 'featuredListingTypeDimension', 'forecast', 'foreclosureTypes', 'formattedChip', 'hasApprovedThirdPartyVirtualTourUrl', 'hasBadGeocode', 'hasPublicVideo', 'hdpTypeDimension', 'hdpUrl', 'hideZestimate', 'homeInsights', 'homeValuation', 'homeValues', 'housesForRentInZipcodeSearchUrl', 'isCamo', 'isConfirmedClaimedByCurrentSignedInUser', 'isCurrentSignedInAgentResponsible', 'isCurrentSignedInUserVerifiedOwner', 'isHousingConnector', 'isIncomeRestricted', 'isInstantOfferEnabled', 'isListingClaimedByCurrentSignedInUser', 'isListingOwnedByCurrentSignedInUser', 'isPaidMultiFamilyBrokerId', 'isRentalListingOffMarket', 'isRentalsLeadCapMet', 'isShowcaseListing', 'isUndisclosedAddress', 'isValid', 'isVerifiedClaimedByCurrentSignedInUser', 'keystoneHomeStatus', 'lfaViewPropertyPageUrl', 'listPriceLow', 'listingAccount', 'listingAccountUserId', 'listingDataSource', 'listingMetadata', 'listingOwnerConfigIDs', 'listingSource', 'listingSubType', 'listingTypeDimension', 'listing_sub_type', 'livingAreaUnits', 'livingAreaUnitsShort', 'livingAreaValue', 'lotAreaUnits', 'lotAreaValue', 'maloneId', 'monthlyHoaFee', 'mortgageZHLRates', 'moveHomeMapLocationLink', 'nearbyBuildingLinks', 'nearbyBuildings', 'nearbyCities', 'nearbyHomes', 'nearbyNeighborhoods', 'nearbyZipcodes', 'neighborhoodMapThumb', 'neighborhoodRegion', 'neighborhoodSearchUrl', 'onsiteMessage', 'originalPhotos', 'ownerAccount', 'pageUrlFragment', 'pals', 'parentRegion', 'photoCount', 'postingPresentationTypes', 'postingProductType', 'postingUrl', 'propertyEventLogLink', 'propertyTypeDimension', 'propertyUpdatePageLink', 'providerListingID', 'rentalMarketingTreatments', 'resoFacts', 'responsivePhotos', 'responsivePhotosOriginalRatio', 'restimateMinus30', 'richMedia', 'richMediaVideos', 'roomForRent', 'schools', 'scrapedAt', 'selfTour', 'specialOffers', 'ssid', 'state', 'stateId', 'stateSearchUrl', 'staticMap', 'streetAddress', 'streetView', 'streetViewMetadataUrlMapLightboxAddress', 'streetViewMetadataUrlMediaWallAddress', 'streetViewMetadataUrlMediaWallLatLong', 'streetViewServiceUrl', 'streetViewTileImageUrlMediumAddress', 'streetViewTileImageUrlMediumLatLong', 'thirdPartyVirtualTour', 'thumb', 'virtualTourUrl', 'vrModel', 'zestimateHighPercent', 'zestimateLowPercent', 'zestimateMinus30', 'zillowOfferMarket', 'zipcode', 'zipcodeSearchUrl']\n"
          ]
        }
      ],
      "source": [
        "import pandas as pd\n",
        "import os\n",
        "\n",
        "# Define file paths\n",
        "file_2023 = '/content/drive/MyDrive/COMP488/Zillow-ChapelHill-Spring2023-18k-Properties.json'\n",
        "file_2025_0 = '/content/drive/MyDrive/COMP488/Zillow-March2025-dataset_part0.json'\n",
        "\n",
        "# Load files and get column sets\n",
        "def load_columns(filepath, label):\n",
        "    if not os.path.exists(filepath):\n",
        "        print(f\"❌ File not found: {filepath}\")\n",
        "        return set()\n",
        "    try:\n",
        "        df = pd.read_json(filepath)\n",
        "        print(f\"✅ Loaded {label} with {df.shape[0]} rows and {len(df.columns)} columns\")\n",
        "        return set(df.columns)\n",
        "    except Exception as e:\n",
        "        print(f\"⚠️ Error loading {label}: {e}\")\n",
        "        return set()\n",
        "\n",
        "# Load column sets\n",
        "cols_2023 = load_columns(file_2023, \"2023\")\n",
        "cols_2025 = load_columns(file_2025_0, \"2025_part0\")\n",
        "\n",
        "# Set comparisons (order doesn't matter)\n",
        "shared_cols = cols_2023 & cols_2025\n",
        "only_2023 = cols_2023 - cols_2025\n",
        "only_2025 = cols_2025 - cols_2023\n",
        "\n",
        "# Print results\n",
        "print(f\"\\n✅ Shared columns ({len(shared_cols)}):\")\n",
        "print(sorted(shared_cols))\n",
        "\n",
        "print(f\"\\n📅 Columns only in 2023 ({len(only_2023)}):\")\n",
        "print(sorted(only_2023))\n",
        "\n",
        "print(f\"\\n🆕 Columns only in 2025 ({len(only_2025)}):\")\n",
        "print(sorted(only_2025))\n"
      ]
    },
    {
      "cell_type": "markdown",
      "metadata": {
        "id": "eVTCfXEGne_w"
      },
      "source": [
        "## Q: what columns of df0 and df23 contain dictionaries or lists?\n",
        "\n",
        "\n",
        "Since we will want some of this later, so make separate lists of those with dictionaries(structured data, e.g., address has street number, and name), and those with lists (many are time series).\n",
        "\n",
        "And how much memory will we save if we drop those for now?"
      ]
    },
    {
      "cell_type": "code",
      "execution_count": null,
      "metadata": {
        "colab": {
          "base_uri": "https://localhost:8080/"
        },
        "id": "GDQ8YeiCoOw_",
        "outputId": "1b401aa6-bb25-4320-bb6c-8d3b06a77087"
      },
      "outputs": [
        {
          "output_type": "stream",
          "name": "stdout",
          "text": [
            "✅ Loaded 2023: (18287, 66)\n",
            "✅ Loaded 2025_part0: (467, 183)\n",
            "\n",
            "📦 df23 - Columns with dicts: ['address', 'listedBy', 'primaryPublicVideo', 'postingContact', 'listingProvider', 'building', 'tourEligibility', 'mortgageRates']\n",
            "📚 df23 - Columns with lists: ['priceHistory', 'openHouseSchedule', 'taxHistory', 'photos']\n",
            "💾 df23 memory before: 55.79 MB, after: 26.85 MB\n",
            "💡 df23 memory saved: 28.95 MB\n",
            "\n",
            "📦 df0 - Columns with dicts: ['address', 'listing_sub_type', 'streetView', 'staticMap', 'resoFacts', 'formattedChip', 'attributionInfo', 'mortgageZHLRates', 'listingMetadata', 'listingSubType', 'postingContact', 'vrModel', 'thirdPartyVirtualTour', 'adTargets', 'parentRegion', 'citySearchUrl', 'mortgageRates', 'zipcodeSearchUrl', 'apartmentsForRentInZipcodeSearchUrl', 'housesForRentInZipcodeSearchUrl', 'neighborhoodRegion', 'building', 'neighborhoodSearchUrl', 'stateSearchUrl', 'countySearchUrl', 'homeValuation', 'foreclosureTypes', 'tourEligibility', 'selfTour', 'roomForRent', 'listingProvider', 'onsiteMessage']\n",
            "📚 df0 - Columns with lists: ['responsivePhotos', 'responsivePhotosOriginalRatio', 'thumb', 'neighborhoodMapThumb', 'pals', 'listedBy', 'taxHistory', 'priceHistory', 'nearbyHomes', 'schools', 'nearbyCities', 'nearbyNeighborhoods', 'nearbyZipcodes', 'compsCarouselPropertyPhotos', 'originalPhotos', 'nearbyBuildings', 'rentalMarketingTreatments', 'homeInsights', 'openHouseSchedule', 'specialOffers', 'nearbyBuildingLinks', 'comps']\n",
            "💾 df0 memory before: 9.57 MB, after: 2.13 MB\n",
            "💡 df0 memory saved: 7.44 MB\n"
          ]
        }
      ],
      "source": [
        "import pandas as pd\n",
        "import os\n",
        "import numpy as np\n",
        "\n",
        "# Load function\n",
        "def load_dataframe(filepath, label):\n",
        "    if not os.path.exists(filepath):\n",
        "        print(f\"❌ File not found: {filepath}\")\n",
        "        return None\n",
        "    try:\n",
        "        df = pd.read_json(filepath)\n",
        "        print(f\"✅ Loaded {label}: {df.shape}\")\n",
        "        return df\n",
        "    except Exception as e:\n",
        "        print(f\"⚠️ Error loading {label}: {e}\")\n",
        "        return None\n",
        "\n",
        "# Identify columns with dicts and lists\n",
        "def find_dicts_and_lists(df):\n",
        "    dict_cols = []\n",
        "    list_cols = []\n",
        "\n",
        "    for col in df.columns:\n",
        "        sample = df[col].dropna().head(10)  # Sample up to 10 non-null values\n",
        "        if any(isinstance(val, dict) for val in sample):\n",
        "            dict_cols.append(col)\n",
        "        elif any(isinstance(val, list) for val in sample):\n",
        "            list_cols.append(col)\n",
        "\n",
        "    return dict_cols, list_cols\n",
        "\n",
        "# Memory calculation helper\n",
        "def memory_usage(df):\n",
        "    return df.memory_usage(deep=True).sum() / (1024**2)  # in MB\n",
        "\n",
        "# File paths\n",
        "file_2023 = '/content/drive/MyDrive/COMP488/Zillow-ChapelHill-Spring2023-18k-Properties.json'\n",
        "file_2025_0 = '/content/drive/MyDrive/COMP488/Zillow-March2025-dataset_part0.json'\n",
        "\n",
        "# Load data\n",
        "df23 = load_dataframe(file_2023, \"2023\")\n",
        "df0 = load_dataframe(file_2025_0, \"2025_part0\")\n",
        "\n",
        "# Analyze df23\n",
        "if df23 is not None:\n",
        "    dict_cols_23, list_cols_23 = find_dicts_and_lists(df23)\n",
        "    mem_before = memory_usage(df23)\n",
        "    df23_reduced = df23.drop(columns=dict_cols_23 + list_cols_23)\n",
        "    mem_after = memory_usage(df23_reduced)\n",
        "    mem_saved_23 = mem_before - mem_after\n",
        "\n",
        "    print(f\"\\n📦 df23 - Columns with dicts: {dict_cols_23}\")\n",
        "    print(f\"📚 df23 - Columns with lists: {list_cols_23}\")\n",
        "    print(f\"💾 df23 memory before: {mem_before:.2f} MB, after: {mem_after:.2f} MB\")\n",
        "    print(f\"💡 df23 memory saved: {mem_saved_23:.2f} MB\")\n",
        "\n",
        "# Analyze df0\n",
        "if df0 is not None:\n",
        "    dict_cols_0, list_cols_0 = find_dicts_and_lists(df0)\n",
        "    mem_before = memory_usage(df0)\n",
        "    df0_reduced = df0.drop(columns=dict_cols_0 + list_cols_0)\n",
        "    mem_after = memory_usage(df0_reduced)\n",
        "    mem_saved_0 = mem_before - mem_after\n",
        "\n",
        "    print(f\"\\n📦 df0 - Columns with dicts: {dict_cols_0}\")\n",
        "    print(f\"📚 df0 - Columns with lists: {list_cols_0}\")\n",
        "    print(f\"💾 df0 memory before: {mem_before:.2f} MB, after: {mem_after:.2f} MB\")\n",
        "    print(f\"💡 df0 memory saved: {mem_saved_0:.2f} MB\")\n"
      ]
    },
    {
      "cell_type": "markdown",
      "metadata": {
        "id": "st7WGu3aetjN"
      },
      "source": [
        "## Q: What columns of df0 and df23 are missing >90% of their data?  \n",
        "Assign missing_set as the union of the sets of those columns.\n",
        "\n"
      ]
    },
    {
      "cell_type": "code",
      "execution_count": null,
      "metadata": {
        "colab": {
          "base_uri": "https://localhost:8080/"
        },
        "id": "hPip_yxBdDcS",
        "outputId": "24e0727f-303f-409c-fbb4-ca99a2baa8b7"
      },
      "outputs": [
        {
          "output_type": "stream",
          "name": "stdout",
          "text": [
            "✅ Loaded 2023: (18287, 66)\n",
            "✅ Loaded 2025_part0: (467, 183)\n",
            "\n",
            "📉 Columns missing >90% in df23: ['brokerId', 'brokerageName', 'building', 'buildingId', 'chanceToSellFaster', 'comingSoonOnMarketDate', 'contingentListingType', 'datePostedString', 'favoriteCount', 'isListedByOwner', 'isPreforeclosureAuction', 'listingProvider', 'marketingName', 'moveInCompletionDate', 'moveInReady', 'newConstructionType', 'openHouseSchedule', 'pageViewCount', 'priceChange', 'primaryPublicVideo', 'timeOnZillow', 'whatILove']\n",
            "\n",
            "📉 Columns missing >90% in df0: ['boroughId', 'boroughSearchUrl', 'brokerId', 'brokerageName', 'building', 'communityUrl', 'comps', 'contingentListingType', 'desktopWebHdpImageLink', 'editPropertyHistorylink', 'forecast', 'homeInsights', 'homeValues', 'isCamo', 'isIncomeRestricted', 'isListedByOwner', 'isListingOwnedByCurrentSignedInUser', 'lfaViewPropertyPageUrl', 'listPriceLow', 'listingAccount', 'listingAccountUserId', 'listingOwnerConfigIDs', 'listingProvider', 'listingSource', 'marketingName', 'moveHomeMapLocationLink', 'nearbyBuildingLinks', 'nearbyBuildings', 'newConstructionType', 'onsiteMessage', 'openHouseSchedule', 'ownerAccount', 'postingPresentationTypes', 'postingProductType', 'postingUrl', 'primaryPublicVideo', 'propertyEventLogLink', 'propertyUpdatePageLink', 'providerListingID', 'rentalMarketingTreatments', 'richMedia', 'richMediaVideos', 'roomForRent', 'specialOffers', 'ssid', 'virtualTourUrl', 'whatILove', 'zillowOfferMarket']\n",
            "\n",
            "🧹 Combined missing_set (59 columns):\n",
            "['boroughId', 'boroughSearchUrl', 'brokerId', 'brokerageName', 'building', 'buildingId', 'chanceToSellFaster', 'comingSoonOnMarketDate', 'communityUrl', 'comps', 'contingentListingType', 'datePostedString', 'desktopWebHdpImageLink', 'editPropertyHistorylink', 'favoriteCount', 'forecast', 'homeInsights', 'homeValues', 'isCamo', 'isIncomeRestricted', 'isListedByOwner', 'isListingOwnedByCurrentSignedInUser', 'isPreforeclosureAuction', 'lfaViewPropertyPageUrl', 'listPriceLow', 'listingAccount', 'listingAccountUserId', 'listingOwnerConfigIDs', 'listingProvider', 'listingSource', 'marketingName', 'moveHomeMapLocationLink', 'moveInCompletionDate', 'moveInReady', 'nearbyBuildingLinks', 'nearbyBuildings', 'newConstructionType', 'onsiteMessage', 'openHouseSchedule', 'ownerAccount', 'pageViewCount', 'postingPresentationTypes', 'postingProductType', 'postingUrl', 'priceChange', 'primaryPublicVideo', 'propertyEventLogLink', 'propertyUpdatePageLink', 'providerListingID', 'rentalMarketingTreatments', 'richMedia', 'richMediaVideos', 'roomForRent', 'specialOffers', 'ssid', 'timeOnZillow', 'virtualTourUrl', 'whatILove', 'zillowOfferMarket']\n"
          ]
        }
      ],
      "source": [
        "import pandas as pd\n",
        "import os\n",
        "\n",
        "# File paths\n",
        "file_2023 = '/content/drive/MyDrive/COMP488/Zillow-ChapelHill-Spring2023-18k-Properties.json'\n",
        "file_2025_0 = '/content/drive/MyDrive/COMP488/Zillow-March2025-dataset_part0.json'\n",
        "\n",
        "# Load function\n",
        "def load_dataframe(filepath, label):\n",
        "    if not os.path.exists(filepath):\n",
        "        print(f\"❌ File not found: {filepath}\")\n",
        "        return None\n",
        "    try:\n",
        "        df = pd.read_json(filepath)\n",
        "        print(f\"✅ Loaded {label}: {df.shape}\")\n",
        "        return df\n",
        "    except Exception as e:\n",
        "        print(f\"⚠️ Error loading {label}: {e}\")\n",
        "        return None\n",
        "\n",
        "# Identify columns with >90% missing\n",
        "def get_high_missing_columns(df, threshold=0.9):\n",
        "    return set(df.columns[df.isnull().mean() > threshold])\n",
        "\n",
        "# Load both DataFrames\n",
        "df23 = load_dataframe(file_2023, \"2023\")\n",
        "df0 = load_dataframe(file_2025_0, \"2025_part0\")\n",
        "\n",
        "# Collect missing sets\n",
        "missing_23 = get_high_missing_columns(df23) if df23 is not None else set()\n",
        "missing_0 = get_high_missing_columns(df0) if df0 is not None else set()\n",
        "\n",
        "# Combine into one set\n",
        "missing_set = missing_23 | missing_0\n",
        "\n",
        "# Output results\n",
        "print(f\"\\n📉 Columns missing >90% in df23: {sorted(missing_23)}\")\n",
        "print(f\"\\n📉 Columns missing >90% in df0: {sorted(missing_0)}\")\n",
        "print(f\"\\n🧹 Combined missing_set ({len(missing_set)} columns):\")\n",
        "print(sorted(missing_set))\n"
      ]
    },
    {
      "cell_type": "code",
      "execution_count": null,
      "metadata": {
        "colab": {
          "base_uri": "https://localhost:8080/"
        },
        "id": "_pKjzIo_gJGM",
        "outputId": "67587d8e-8b06-4349-ead7-add501b63b6a"
      },
      "outputs": [
        {
          "output_type": "stream",
          "name": "stdout",
          "text": [
            " Memory: 9.211767196655273 bytes for df0\n",
            " Memory: 48.10035991668701 bytes for df23\n"
          ]
        }
      ],
      "source": [
        "# prompt: Show the memory for df0 and d23 after drop_columns(..., missing_set).\n",
        "\n",
        "drop_columns(df0, missing_set)\n",
        "drop_columns(df23, missing_set)\n",
        "print_memory(df0, \"df0\")\n",
        "print_memory(df23, \"df23\")\n"
      ]
    },
    {
      "cell_type": "markdown",
      "source": [
        "## Category columns\n",
        "Which columns of df0 and df23 are object type but contain at most 12 different values? Set each to type category, and let cat_columns be the union of those columns.\n"
      ],
      "metadata": {
        "id": "aY66mVDyzqOU"
      }
    },
    {
      "cell_type": "code",
      "source": [
        "import pandas as pd\n",
        "import os\n",
        "\n",
        "# File paths\n",
        "file_2023 = '/content/drive/MyDrive/COMP488/Zillow-ChapelHill-Spring2023-18k-Properties.json'\n",
        "file_2025_0 = '/content/drive/MyDrive/COMP488/Zillow-March2025-dataset_part0.json'\n",
        "\n",
        "# Load function\n",
        "def load_dataframe(filepath, label):\n",
        "    if not os.path.exists(filepath):\n",
        "        print(f\"❌ File not found: {filepath}\")\n",
        "        return None\n",
        "    try:\n",
        "        df = pd.read_json(filepath)\n",
        "        print(f\"✅ Loaded {label}: {df.shape}\")\n",
        "        return df\n",
        "    except Exception as e:\n",
        "        print(f\"⚠️ Error loading {label}: {e}\")\n",
        "        return None\n",
        "\n",
        "# Find low-cardinality object columns and convert to category\n",
        "def find_and_convert_categories(df, max_unique=12):\n",
        "    cat_cols = []\n",
        "    for col in df.select_dtypes(include='object').columns:\n",
        "        try:\n",
        "            unique_vals = df[col].dropna().unique()\n",
        "            if len(unique_vals) <= max_unique:\n",
        "                df[col] = df[col].astype('category')\n",
        "                cat_cols.append(col)\n",
        "        except TypeError:\n",
        "            # Skip columns with unhashable types like dicts/lists\n",
        "            continue\n",
        "    return set(cat_cols)\n",
        "\n",
        "# Load data\n",
        "df23 = load_dataframe(file_2023, \"2023\")\n",
        "df0 = load_dataframe(file_2025_0, \"2025_part0\")\n",
        "\n",
        "# Convert and collect category columns\n",
        "cat_23 = find_and_convert_categories(df23) if df23 is not None else set()\n",
        "cat_0 = find_and_convert_categories(df0) if df0 is not None else set()\n",
        "\n",
        "# Combine\n",
        "cat_columns = cat_23 | cat_0\n",
        "\n",
        "# Print results\n",
        "print(f\"\\n📦 df23 category columns: {sorted(cat_23)}\")\n",
        "print(f\"📦 df0 category columns: {sorted(cat_0)}\")\n",
        "print(f\"\\n🧠 Union of all category columns (cat_columns = {len(cat_columns)}):\")\n",
        "print(sorted(cat_columns))\n"
      ],
      "metadata": {
        "id": "_7sXuwwCzu9g",
        "colab": {
          "base_uri": "https://localhost:8080/"
        },
        "outputId": "bbffe707-3332-416d-b7b3-256ccf3a9149"
      },
      "execution_count": null,
      "outputs": [
        {
          "output_type": "stream",
          "name": "stdout",
          "text": [
            "✅ Loaded 2023: (18287, 66)\n",
            "✅ Loaded 2025_part0: (467, 183)\n",
            "\n",
            "📦 df23 category columns: ['contingentListingType', 'currency', 'homeStatus', 'homeType', 'marketingName', 'newConstructionType', 'rentalApplicationsAcceptedType', 'timeZone']\n",
            "📦 df0 category columns: ['brokerIdDimension', 'city', 'country', 'county', 'currency', 'desktopWebHdpImageLink', 'featuredListingTypeDimension', 'hdpTypeDimension', 'homeStatus', 'homeType', 'keystoneHomeStatus', 'listingDataSource', 'listingTypeDimension', 'livingAreaUnits', 'livingAreaUnitsShort', 'lotAreaUnits', 'pageUrlFragment', 'postingProductType', 'propertyTypeDimension', 'providerListingID', 'rentalApplicationsAcceptedType', 'state', 'timeZone', 'virtualTourUrl', 'whatILove']\n",
            "\n",
            "🧠 Union of all category columns (cat_columns = 28):\n",
            "['brokerIdDimension', 'city', 'contingentListingType', 'country', 'county', 'currency', 'desktopWebHdpImageLink', 'featuredListingTypeDimension', 'hdpTypeDimension', 'homeStatus', 'homeType', 'keystoneHomeStatus', 'listingDataSource', 'listingTypeDimension', 'livingAreaUnits', 'livingAreaUnitsShort', 'lotAreaUnits', 'marketingName', 'newConstructionType', 'pageUrlFragment', 'postingProductType', 'propertyTypeDimension', 'providerListingID', 'rentalApplicationsAcceptedType', 'state', 'timeZone', 'virtualTourUrl', 'whatILove']\n"
          ]
        }
      ]
    },
    {
      "cell_type": "code",
      "execution_count": null,
      "metadata": {
        "colab": {
          "base_uri": "https://localhost:8080/"
        },
        "id": "gjQtib1alEIH",
        "outputId": "7d87b9e4-bb20-4a9e-9d39-1fae5cb9d607"
      },
      "outputs": [
        {
          "output_type": "stream",
          "name": "stdout",
          "text": [
            " Memory: 8.948226928710938 bytes for df0\n",
            " Memory: 49.092591285705566 bytes for df23\n"
          ]
        }
      ],
      "source": [
        "print_memory(df0, \"df0\")\n",
        "print_memory(df23, \"df23\")\n"
      ]
    },
    {
      "cell_type": "markdown",
      "metadata": {
        "id": "js2Y6oCDtYpr"
      },
      "source": [
        "# Read all zillowfiles, but drop unwanted columns as we go.\n",
        "As you read the zillowfiles, drop only_in_df23, only_in_df0, missing_columns, and dl_columns. Add a new column, filename, that records where the row came from. Concatenate into a single dataframe df.   "
      ]
    },
    {
      "cell_type": "code",
      "execution_count": null,
      "metadata": {
        "id": "gUiaNibNuQY9",
        "colab": {
          "base_uri": "https://localhost:8080/"
        },
        "outputId": "30a94eac-90c5-4cb9-a408-aaa9324e27f1"
      },
      "outputs": [
        {
          "output_type": "stream",
          "name": "stdout",
          "text": [
            "✅ Loaded and cleaned: Zillow-ChapelHill-Spring2023-18k-Properties.json (18287 rows)\n",
            "✅ Loaded and cleaned: Zillow-March2025-dataset_part1.json (11373 rows)\n",
            "✅ Loaded and cleaned: Zillow-March2025-dataset_part2.json (7329 rows)\n",
            "✅ Loaded and cleaned: Zillow-March2025-dataset_part3.json (12864 rows)\n",
            "✅ Loaded and cleaned: Zillow-March2025-dataset_part0.json (467 rows)\n",
            "\n",
            "📦 Final combined dataframe shape: (50320, 234)\n"
          ]
        }
      ],
      "source": [
        "import pandas as pd\n",
        "import os\n",
        "import glob\n",
        "\n",
        "# Define your drop sets (replace these with actual sets you already calculated)\n",
        "only_in_df23 = {...}\n",
        "only_in_df0 = {...}\n",
        "missing_columns = {...}\n",
        "dl_columns = {...}\n",
        "\n",
        "# Combined drop set\n",
        "columns_to_drop = only_in_df23 | only_in_df0 | missing_columns | dl_columns\n",
        "\n",
        "# Path to your Zillow files\n",
        "path488 = '/content/drive/MyDrive/COMP488/'\n",
        "zillowfiles = glob.glob(os.path.join(path488, 'Zillow*.json'))\n",
        "\n",
        "# Collect all cleaned DataFrames\n",
        "frames = []\n",
        "\n",
        "for filepath in zillowfiles:\n",
        "    filename = os.path.basename(filepath)\n",
        "    try:\n",
        "        df_temp = pd.read_json(filepath)\n",
        "\n",
        "        # Drop unwanted columns (ignore if not present)\n",
        "        cols_to_drop_in_this_file = [col for col in columns_to_drop if col in df_temp.columns]\n",
        "        df_temp = df_temp.drop(columns=cols_to_drop_in_this_file)\n",
        "\n",
        "        # Add filename column\n",
        "        df_temp['filename'] = filename\n",
        "\n",
        "        # Append to list\n",
        "        frames.append(df_temp)\n",
        "        print(f\"✅ Loaded and cleaned: {filename} ({df_temp.shape[0]} rows)\")\n",
        "    except Exception as e:\n",
        "        print(f\"⚠️ Failed to load {filename}: {e}\")\n",
        "\n",
        "# Concatenate all parts into one DataFrame\n",
        "df = pd.concat(frames, ignore_index=True)\n",
        "print(f\"\\n📦 Final combined dataframe shape: {df.shape}\")\n"
      ]
    },
    {
      "cell_type": "code",
      "execution_count": null,
      "metadata": {
        "colab": {
          "base_uri": "https://localhost:8080/"
        },
        "id": "MB9ffvLftsKC",
        "outputId": "1a7a9779-d0e0-44d4-d98f-56186f39f991"
      },
      "outputs": [
        {
          "output_type": "stream",
          "name": "stdout",
          "text": [
            " Memory: 824.5105419158936 bytes for zillowfiles\n",
            "<class 'pandas.core.frame.DataFrame'>\n",
            "RangeIndex: 50320 entries, 0 to 50319\n",
            "Columns: 234 entries, zpid to comps\n",
            "dtypes: bool(5), float64(97), int64(1), object(131)\n",
            "memory usage: 88.2+ MB\n"
          ]
        }
      ],
      "source": [
        "print_memory(df, \"zillowfiles\")\n",
        "df.info()\n"
      ]
    },
    {
      "cell_type": "markdown",
      "metadata": {
        "id": "EPMMDnBat7WF"
      },
      "source": [
        "## What is the earliest built house?\n",
        "And do you believe it?  How far do you have to go to find the correct earliest built?"
      ]
    },
    {
      "cell_type": "code",
      "source": [
        "# Make sure yearBuilt is numeric and not missing\n",
        "df_valid_years = df[pd.to_numeric(df['yearBuilt'], errors='coerce').notnull()].copy()\n",
        "df_valid_years['yearBuilt'] = df_valid_years['yearBuilt'].astype(int)\n",
        "\n",
        "# Sort by yearBuilt\n",
        "df_sorted = df_valid_years.sort_values('yearBuilt')\n",
        "\n",
        "# Find the absolute earliest year\n",
        "earliest_year = df_sorted.iloc[0]['yearBuilt']\n",
        "earliest_row = df_sorted.iloc[0]\n",
        "\n",
        "print(f\"🏚️ Earliest yearBuilt in dataset: {earliest_year}\")\n",
        "print(\"\\n🔍 Details of that row:\")\n",
        "print(earliest_row[['zpid', 'address', 'yearBuilt', 'homeType', 'filename']])\n",
        "\n",
        "# Find the first \"believable\" earliest home (e.g., built after 1795 or 1800)\n",
        "df_believable = df_sorted[df_sorted['yearBuilt'] >= 1795]\n",
        "believable_earliest_year = df_believable.iloc[0]['yearBuilt']\n",
        "believable_row = df_believable.iloc[0]\n",
        "\n",
        "print(f\"\\n✅ First believable yearBuilt (>=1795): {believable_earliest_year}\")\n",
        "print(\"\\n🔍 Details of first believable house:\")\n",
        "print(believable_row[['zpid', 'address', 'yearBuilt', 'homeType', 'filename']])\n"
      ],
      "metadata": {
        "colab": {
          "base_uri": "https://localhost:8080/"
        },
        "id": "2UIRHF4eUQ9P",
        "outputId": "d7f6fe65-e5d9-45db-d102-5994c1eff23a"
      },
      "execution_count": null,
      "outputs": [
        {
          "output_type": "stream",
          "name": "stdout",
          "text": [
            "🏚️ Earliest yearBuilt in dataset: 1647\n",
            "\n",
            "🔍 Details of that row:\n",
            "zpid                                                50039980.0\n",
            "address      {'streetAddress': '103 Plant Rd', 'city': 'Cha...\n",
            "yearBuilt                                                 1647\n",
            "homeType                                         SINGLE_FAMILY\n",
            "filename      Zillow-ChapelHill-Spring2023-18k-Properties.json\n",
            "Name: 6028, dtype: object\n",
            "\n",
            "✅ First believable yearBuilt (>=1795): 1809\n",
            "\n",
            "🔍 Details of first believable house:\n",
            "zpid                                                50037972.0\n",
            "address      {'streetAddress': '304 Hillsborough St', 'city...\n",
            "yearBuilt                                                 1809\n",
            "homeType                                         SINGLE_FAMILY\n",
            "filename      Zillow-ChapelHill-Spring2023-18k-Properties.json\n",
            "Name: 4848, dtype: object\n"
          ]
        }
      ]
    },
    {
      "cell_type": "markdown",
      "metadata": {
        "id": "ANzry2RpFpc5"
      },
      "source": [
        "# FILES: File formats and data sizes\n",
        "Role: Data librarian; COMP BSc majors\n",
        "\n",
        "The 2023 and 2025 files are stored differently, even though both are json.\n",
        "- The 2023 file contains a dictionary with keys as column names whose entries are dictionaries with keys for each row that has data for that column. This was written with `df.to_json(filename, orient=\"columns\")`\n",
        "- The 2025 files each contain a list of rows, with each row being a dictionary with keys as column names  whose entries are dictionaries with keys for each row that has data for that column. These were written with `df.to_json(filename)`, each taking on  the default `orient=\"list\"`.\n",
        "\n"
      ]
    },
    {
      "cell_type": "code",
      "execution_count": null,
      "metadata": {
        "id": "RbCbExs1_DjU",
        "colab": {
          "base_uri": "https://localhost:8080/"
        },
        "outputId": "a7d9379a-021a-4e86-ddd6-2485e447019a"
      },
      "outputs": [
        {
          "output_type": "stream",
          "name": "stdout",
          "text": [
            "📘 Loaded 2023-style file: /content/drive/MyDrive/COMP488/Zillow-ChapelHill-Spring2023-18k-Properties.json — shape: (18287, 67)\n",
            "📗 Loaded 2025-style file: /content/drive/MyDrive/COMP488/Zillow-March2025-dataset_part1.json — shape: (11373, 229)\n",
            "📗 Loaded 2025-style file: /content/drive/MyDrive/COMP488/Zillow-March2025-dataset_part2.json — shape: (7329, 229)\n",
            "📗 Loaded 2025-style file: /content/drive/MyDrive/COMP488/Zillow-March2025-dataset_part3.json — shape: (12864, 229)\n",
            "📗 Loaded 2025-style file: /content/drive/MyDrive/COMP488/Zillow-March2025-dataset_part0.json — shape: (467, 184)\n",
            "\n",
            "📦 Final combined DataFrame shape: (50320, 234)\n"
          ]
        }
      ],
      "source": [
        "import pandas as pd\n",
        "import os\n",
        "import glob\n",
        "\n",
        "# Paths\n",
        "path488 = '/content/drive/MyDrive/COMP488/'\n",
        "zillowfiles = glob.glob(os.path.join(path488, 'Zillow*.json'))\n",
        "\n",
        "# Identify 2023 file(s) vs 2025 part files\n",
        "file_2023 = [f for f in zillowfiles if '2023' in f]\n",
        "file_2025_parts = [f for f in zillowfiles if '2025' in f]\n",
        "\n",
        "# Store all loaded DataFrames\n",
        "dataframes = []\n",
        "\n",
        "# Load 2023 file(s) - orient='columns'\n",
        "for f in file_2023:\n",
        "    try:\n",
        "        df = pd.read_json(f, orient='columns')\n",
        "        df['filename'] = os.path.basename(f)\n",
        "        dataframes.append(df)\n",
        "        print(f\"📘 Loaded 2023-style file: {f} — shape: {df.shape}\")\n",
        "    except Exception as e:\n",
        "        print(f\"❌ Error loading 2023 file {f}: {e}\")\n",
        "\n",
        "# Load 2025 files - orient='records' (default)\n",
        "for f in file_2025_parts:\n",
        "    try:\n",
        "        df = pd.read_json(f)  # or orient='records'\n",
        "        df['filename'] = os.path.basename(f)\n",
        "        dataframes.append(df)\n",
        "        print(f\"📗 Loaded 2025-style file: {f} — shape: {df.shape}\")\n",
        "    except Exception as e:\n",
        "        print(f\"❌ Error loading 2025 file {f}: {e}\")\n",
        "\n",
        "# Combine all into one DataFrame\n",
        "df = pd.concat(dataframes, ignore_index=True)\n",
        "print(f\"\\n📦 Final combined DataFrame shape: {df.shape}\")\n"
      ]
    },
    {
      "cell_type": "markdown",
      "source": [
        "### 🗃️ **File Formats and Data Sizes — COMP488 Zillow Data**\n",
        "\n",
        "#### 🔹 **2023 File Format**\n",
        "- **Stored as:**  \n",
        "  A **dictionary of columns**, where each key is a **column name**, and each value is another dictionary — keyed by **row index**, with the actual data as values.\n",
        "\n",
        "- **Saved using:**  \n",
        "  ```python\n",
        "  df.to_json(filename, orient=\"columns\")\n",
        "  ```\n",
        "\n",
        "- **Example structure:**\n",
        "  ```json\n",
        "  {\n",
        "    \"zpid\": {\"0\": 123456, \"1\": 234567, ...},\n",
        "    \"yearBuilt\": {\"0\": 1980, \"1\": 2005, ...},\n",
        "    ...\n",
        "  }\n",
        "  ```\n",
        "\n",
        "- **How to load:**  \n",
        "  ```python\n",
        "  pd.read_json(\"Zillow-ChapelHill-Spring2023-18k-Properties.json\", orient=\"columns\")\n",
        "  ```\n",
        "\n",
        "---\n",
        "\n",
        "#### 🔹 **2025 File Format**\n",
        "- **Stored as:**  \n",
        "  A **list of row dictionaries**, where each item in the list is a **single row**, and each row is a dictionary of column-value pairs.\n",
        "\n",
        "- **Saved using:**  \n",
        "  ```python\n",
        "  df.to_json(filename)  # default = orient=\"records\"\n",
        "  ```\n",
        "\n",
        "- **Example structure:**\n",
        "  ```json\n",
        "  [\n",
        "    {\"zpid\": 123456, \"yearBuilt\": 1980, ...},\n",
        "    {\"zpid\": 234567, \"yearBuilt\": 2005, ...},\n",
        "    ...\n",
        "  ]\n",
        "  ```\n",
        "\n",
        "- **How to load:**  \n",
        "  ```python\n",
        "  pd.read_json(\"Zillow-March2025-dataset_part0.json\")\n",
        "  ```\n",
        "\n",
        "---\n",
        "\n",
        "#### 🟦 **2023 File (1 file)**\n",
        "- 📘 **File**: `Zillow-ChapelHill-Spring2023-18k-Properties.json`\n",
        "- 🧾 **Format**: `orient=\"columns\"`  \n",
        "  → JSON is a **dictionary of column names**, with each value being a dictionary of row entries.\n",
        "- 🔢 **Shape**: `(18,287 rows × 67 columns)`\n",
        "- 🔍 **Read with**: `pd.read_json(..., orient=\"columns\")`\n",
        "\n",
        "---\n",
        "\n",
        "#### 🟩 **2025 Files (4 parts)**\n",
        "- 📗 **Files**:\n",
        "  - `Zillow-March2025-dataset_part0.json` → (467 rows, 184 columns)\n",
        "  - `Zillow-March2025-dataset_part1.json` → (11,373 rows, 229 columns)\n",
        "  - `Zillow-March2025-dataset_part2.json` → (7,329 rows, 229 columns)\n",
        "  - `Zillow-March2025-dataset_part3.json` → (12,864 rows, 229 columns)\n",
        "- 🧾 **Format**: `orient=\"records\"` (default)  \n",
        "  → JSON is a **list of dictionaries**, each representing a row of data.\n",
        "- 🔍 **Read with**: `pd.read_json(...)` or `pd.read_json(..., orient=\"records\")`\n",
        "\n",
        "---\n",
        "\n",
        "### 📦 **Final Combined Dataset**\n",
        "- ✅ **Total rows**: `50,320`\n",
        "- ✅ **Total columns** (after merging): `234`\n",
        "- ⚠️ **Note**: Some files have different columns; `concat()` handles this by filling missing columns with `NaN`.\n",
        "\n",
        "---\n",
        "\n",
        "### 🧠 TL;DR:\n",
        "| Year | Format             | Structure                    | Read with                        | Rows     | Cols |\n",
        "|------|--------------------|------------------------------|----------------------------------|----------|------|\n",
        "| 2023 | `orient=\"columns\"` | Dict of columns              | `pd.read_json(..., orient=\"columns\")` | 18,287   | 67   |\n",
        "| 2025 | `orient=\"records\"` | List of row dictionaries     | `pd.read_json(...)`              | 32,033   | 184–229 |\n",
        "| ✅ Combined | Merged into full dataset | All columns aligned | `pd.concat([...])`                 | **50,320** | **234** |\n",
        "\n",
        "---"
      ],
      "metadata": {
        "id": "DAbb07eEVHUt"
      }
    }
  ],
  "metadata": {
    "colab": {
      "collapsed_sections": [
        "iqaZkZ0AfVKC"
      ],
      "provenance": [],
      "gpuType": "V28"
    },
    "kernelspec": {
      "display_name": "Python 3",
      "name": "python3"
    },
    "language_info": {
      "name": "python"
    },
    "accelerator": "TPU"
  },
  "nbformat": 4,
  "nbformat_minor": 0
}
